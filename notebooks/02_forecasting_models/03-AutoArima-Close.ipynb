{
 "cells": [
  {
   "cell_type": "markdown",
   "metadata": {},
   "source": [
    "----\n",
    "# Auto-ARIMA Forecasting\n",
    "-----\n",
    "\n",
    "In this notebook, I explore timeseries forecasting of stock returns using : ARIMA, SARIMA, and SARIMAX. For this analysis, I will be using the pmdarima package. This library simplifies the implementation and tuning of ARIMA and its paramters - this is particularly helpful when forecasting stock related data due to the high volatility. \n",
    "\n",
    "### Notebook Overview\n",
    "\n",
    "The purpose of this project is to predict the 7-day return of stock prices. To do this, I will:\n",
    "\n",
    "1. **Data Loading and Preparation:** Load stock data and calculate stock return\n",
    "\n",
    "2. **Forecasting with Auto ARIMA:** Use pmdarima to automatically identify the best paramters for ARIMA forecasting.\n",
    "\n",
    "3. **Incorporate Seasonality with SARIMA:** Extend the ARIMA model to capture seasonal effects using pmdarima.\n",
    "\n",
    "4. **Further Enhance Forecasting with SARIMAX:** Use exogenous variables such as interest rates to improve forecasting accuracy.\n",
    "\n",
    "5. **Evaluate Model Performance:** Assess the accuracy of our forecasts and analySe residuals to ensure the model’s effectiveness.\n"
   ]
  },
  {
   "cell_type": "markdown",
   "metadata": {},
   "source": [
    "## Set Up\n",
    "----"
   ]
  },
  {
   "cell_type": "code",
   "execution_count": 424,
   "metadata": {},
   "outputs": [],
   "source": [
    "import numpy as np\n",
    "import pandas as pd\n",
    "\n",
    "import plotly.express as px\n",
    "from plotly.subplots import make_subplots\n",
    "import plotly.graph_objs as go\n",
    "import matplotlib.pyplot as plt\n",
    "import seaborn as sns\n",
    "\n",
    "from statsmodels.api import tsa # time series analysis\n",
    "import statsmodels.api as sm\n",
    "import pmdarima as pm\n",
    "from statsmodels.tsa.stattools import adfuller\n",
    "from scipy.stats import boxcox\n",
    "from scipy.special import inv_boxcox\n",
    "from sklearn.metrics import mean_squared_error, mean_absolute_error"
   ]
  },
  {
   "cell_type": "markdown",
   "metadata": {},
   "source": [
    "## Utility Functions\n",
    "----"
   ]
  },
  {
   "cell_type": "code",
   "execution_count": 425,
   "metadata": {},
   "outputs": [],
   "source": [
    "def adf_test(series, threshold = 0.05):\n",
    "    \"\"\"\n",
    "    Description:\n",
    "    Perform the Augmented Dickey-Fuller (ADF) test to check for stationarity.\n",
    "\n",
    "    Parameters:\n",
    "    - series : The time series data to test for stationarity.\n",
    "    - threshold : The significance level to determine stationarity (default is 0.05).\n",
    "\n",
    "    Returns:\n",
    "    - None: Prints the ADF statistic, p-value and stationarity result.\n",
    "    \"\"\"\n",
    "    adf_test = adfuller(series)\n",
    "    adf_statistic = adf_test[0]\n",
    "    p_value = adf_test[1]\n",
    "    \n",
    "    print(f'ADF Statistic: {adf_statistic}')\n",
    "    print(f'p-value: {p_value}')\n",
    "\n",
    "    if p_value < threshold:\n",
    "        print(\"Data is stationary.\")\n",
    "    else:\n",
    "        print(\"Data is not stationary.\")"
   ]
  },
  {
   "cell_type": "code",
   "execution_count": 426,
   "metadata": {},
   "outputs": [],
   "source": [
    "def plt_pred_vs_actual(actual, predicted):\n",
    "    \n",
    "    \"\"\"\n",
    "    Description:\n",
    "    Plots the actual versus forecasted returns.\n",
    "\n",
    "    Parameters:\n",
    "    - actual: DataFrame containing actual returns with a DateTime index and a 'return' column.\n",
    "    - predicted: Series containing forecasted returns, with the same index as 'actual'.\n",
    "\n",
    "    Returns:\n",
    "    - Displays the plot.\n",
    "    \"\"\"\n",
    "\n",
    "     # Validate inputs\n",
    "    if not isinstance(actual, pd.DataFrame):\n",
    "        raise TypeError(\"Expected 'actual' to be a pandas DataFrame.\")\n",
    "    if not isinstance(predicted, pd.Series):\n",
    "        raise TypeError(\"Expected 'predicted' to be a pandas Series with same index (Date) as actual\")\n",
    "\n",
    "    plt.figure(figsize=(10, 5))\n",
    "\n",
    "    plt.plot(actual.index, actual['Close'], label='Actual Returns')\n",
    "    plt.plot(actual.index, predicted, label='Forecasted Returns', color='red')\n",
    "    ax = plt.gca()\n",
    "\n",
    "    ax.spines[['top', 'right']].set_visible(False)\n",
    "    plt.title('Returns Forecast vs Actual', fontweight = 'bold', fontsize = '15')\n",
    "    plt.xlabel('Date')\n",
    "    plt.ylabel('Returns')\n",
    "    plt.legend()\n",
    "    plt.show()"
   ]
  },
  {
   "cell_type": "code",
   "execution_count": 427,
   "metadata": {},
   "outputs": [],
   "source": [
    "def inv_diff(last_observed_value, predicted):\n",
    "    \"\"\"\n",
    "    Description:\n",
    "    Reverts a differenced time series to its original scale\n",
    "\n",
    "    Parameters:\n",
    "    - last_observed_value : The last observed value from the original time series.\n",
    "    - predicted : Series containing the differenced forecasted values to be restored.\n",
    "\n",
    "    Returns:\n",
    "    - restored_series : Series with the restored predicted values \n",
    "\n",
    "    \"\"\"    \n",
    "    current_value = last_observed_value\n",
    "\n",
    "    inv_diff_values = []\n",
    "\n",
    "    for diff in predicted:\n",
    "        inv_diff_value = current_value + diff\n",
    "        inv_diff_values.append(inv_diff_value)\n",
    "        current_value = inv_diff_value  \n",
    "\n",
    "    restored_series = pd.Series(inv_diff_values, index=predicted.index)\n",
    "\n",
    "    return restored_series"
   ]
  },
  {
   "cell_type": "code",
   "execution_count": 428,
   "metadata": {},
   "outputs": [],
   "source": [
    "def fcast_evaluation(predicted, actual):\n",
    "    \"\"\"\n",
    "    Description:\n",
    "    To evaluate forecasting performance using multiple metrics.\n",
    "\n",
    "    Parameters:\n",
    "    predicted: Forecasted values.\n",
    "    actual: Actual observed values.\n",
    "\n",
    "    Output:\n",
    "    A dictionary containing the evaluation metrics:\n",
    "        - 'MSE': Mean Squared Error\n",
    "        - 'MAE': Mean Absolute Error\n",
    "        - 'RMSE': Root Mean Squared Error\n",
    "        - 'MAPE': Mean Absolute Percentage Error\n",
    "    \"\"\"\n",
    "\n",
    "    err= actual - predicted\n",
    "\n",
    "    # Calculating MSE\n",
    "    mse = mean_squared_error(actual, predicted)\n",
    "\n",
    "    # Calculating MAE\n",
    "    mae = mean_absolute_error(actual, predicted)\n",
    "\n",
    "    # Calculating RMSE\n",
    "    rmse = np.sqrt(mse)\n",
    "\n",
    "    # Calculating MAPE\n",
    "    abs_percent_err = np.abs(err/actual)\n",
    "    mape = abs_percent_err.mean() * 100\n",
    "\n",
    "    return {'MSE': mse,\n",
    "            'MAE': mae,\n",
    "            'RMSE': rmse,\n",
    "            'MAPE': mape\n",
    "            }"
   ]
  },
  {
   "cell_type": "markdown",
   "metadata": {},
   "source": [
    "## Data Loading\n",
    "----"
   ]
  },
  {
   "cell_type": "code",
   "execution_count": 429,
   "metadata": {},
   "outputs": [],
   "source": [
    "raw_df = pd.read_csv('../../data/daily_data_clean.csv', index_col = 0)"
   ]
  },
  {
   "cell_type": "code",
   "execution_count": 430,
   "metadata": {},
   "outputs": [],
   "source": [
    "# Turn index to DateTime \n",
    "raw_df.index = pd.DatetimeIndex(raw_df.index)"
   ]
  },
  {
   "cell_type": "markdown",
   "metadata": {},
   "source": [
    "## Data Processing - Close\n",
    "----"
   ]
  },
  {
   "cell_type": "code",
   "execution_count": 431,
   "metadata": {},
   "outputs": [
    {
     "name": "stdout",
     "output_type": "stream",
     "text": [
      "ADF Statistic: -0.5313747600856212\n",
      "p-value: 0.885747146071565\n",
      "Data is not stationary.\n"
     ]
    }
   ],
   "source": [
    "adf_test(raw_df['Close'])"
   ]
  },
  {
   "cell_type": "code",
   "execution_count": 432,
   "metadata": {},
   "outputs": [],
   "source": [
    "# Apply boxcox first to stabalise the variance\n",
    "raw_df['Close_boxcox'], lam = boxcox(raw_df['Close'])"
   ]
  },
  {
   "cell_type": "code",
   "execution_count": 433,
   "metadata": {},
   "outputs": [],
   "source": [
    "# Already know seasonality of Close is 7 days\n",
    "raw_df['Close_diff'] = raw_df['Close_boxcox'].diff(7)"
   ]
  },
  {
   "cell_type": "code",
   "execution_count": 434,
   "metadata": {},
   "outputs": [],
   "source": [
    "raw_df = raw_df.dropna()"
   ]
  },
  {
   "cell_type": "code",
   "execution_count": 435,
   "metadata": {},
   "outputs": [
    {
     "data": {
      "image/png": "[encoded data removed]",
      "text/plain": [
       "<Figure size 1400x600 with 2 Axes>"
      ]
     },
     "metadata": {},
     "output_type": "display_data"
    }
   ],
   "source": [
    "plt.figure(figsize=(14, 6))\n",
    "\n",
    "plt.subplot(2, 1, 1)\n",
    "plt.plot(raw_df['Close'], label='Original', color= 'teal')\n",
    "plt.title('Original Timeseries')\n",
    "plt.legend()\n",
    "\n",
    "plt.subplot(2, 1, 2)\n",
    "plt.plot(raw_df['Close_diff'], label='Seasonal Difference', color='darkmagenta')\n",
    "plt.title('Seasonally Differenced Timeseries')\n",
    "plt.legend()\n",
    "\n",
    "plt.tight_layout()\n",
    "plt.show()"
   ]
  },
  {
   "cell_type": "code",
   "execution_count": 436,
   "metadata": {},
   "outputs": [
    {
     "name": "stdout",
     "output_type": "stream",
     "text": [
      "ADF Statistic: -8.147817688059595\n",
      "p-value: 9.879557431344554e-13\n",
      "Data is stationary.\n"
     ]
    }
   ],
   "source": [
    "adf_test(raw_df['Close_diff'])"
   ]
  },
  {
   "cell_type": "markdown",
   "metadata": {},
   "source": [
    "-----\n",
    "**Comment:**\n",
    "\n",
    "Close data is now stationary after applying boxcox and seasonal differencing of 7 days.\n"
   ]
  },
  {
   "cell_type": "markdown",
   "metadata": {},
   "source": [
    "## Train/Test Split\n",
    "----"
   ]
  },
  {
   "cell_type": "markdown",
   "metadata": {},
   "source": [
    "Since the purpose of this project is to forecast the daily return for the next 7 days, I will use a 1 week validation set."
   ]
  },
  {
   "cell_type": "code",
   "execution_count": 437,
   "metadata": {},
   "outputs": [],
   "source": [
    "train_end_date = raw_df.index.max() - pd.DateOffset(weeks=1)"
   ]
  },
  {
   "cell_type": "code",
   "execution_count": 492,
   "metadata": {},
   "outputs": [],
   "source": [
    "from sklearn.model_selection import TimeSeriesSplit"
   ]
  },
  {
   "cell_type": "code",
   "execution_count": 494,
   "metadata": {},
   "outputs": [],
   "source": [
    "tscv = TimeSeriesSplit(n_splits=5)"
   ]
  },
  {
   "cell_type": "code",
   "execution_count": 501,
   "metadata": {},
   "outputs": [],
   "source": [
    "for train_index, test_index in tscv.split(raw_df):\n",
    "    train_data, test_data = raw_df.iloc[train_index,:], raw_df.iloc[test_index,:]"
   ]
  },
  {
   "cell_type": "code",
   "execution_count": 438,
   "metadata": {},
   "outputs": [],
   "source": [
    "# train_df = raw_df[raw_df.index <= train_end_date]\n",
    "# val_df = raw_df[raw_df.index > train_end_date]"
   ]
  },
  {
   "cell_type": "code",
   "execution_count": 503,
   "metadata": {},
   "outputs": [
    {
     "data": {
      "text/html": [
       "<div>\n",
       "<style scoped>\n",
       "    .dataframe tbody tr th:only-of-type {\n",
       "        vertical-align: middle;\n",
       "    }\n",
       "\n",
       "    .dataframe tbody tr th {\n",
       "        vertical-align: top;\n",
       "    }\n",
       "\n",
       "    .dataframe thead th {\n",
       "        text-align: right;\n",
       "    }\n",
       "</style>\n",
       "<table border=\"1\" class=\"dataframe\">\n",
       "  <thead>\n",
       "    <tr style=\"text-align: right;\">\n",
       "      <th></th>\n",
       "      <th>Open</th>\n",
       "      <th>High</th>\n",
       "      <th>Low</th>\n",
       "      <th>Close</th>\n",
       "      <th>Adj Close</th>\n",
       "      <th>Volume</th>\n",
       "      <th>Close_boxcox</th>\n",
       "      <th>Close_diff</th>\n",
       "    </tr>\n",
       "  </thead>\n",
       "  <tbody>\n",
       "    <tr>\n",
       "      <th>2023-10-01</th>\n",
       "      <td>316.769999</td>\n",
       "      <td>321.083344</td>\n",
       "      <td>315.113332</td>\n",
       "      <td>319.783325</td>\n",
       "      <td>317.972992</td>\n",
       "      <td>2.176010e+07</td>\n",
       "      <td>27.755950</td>\n",
       "      <td>0.102670</td>\n",
       "    </tr>\n",
       "    <tr>\n",
       "      <th>2023-10-02</th>\n",
       "      <td>316.279999</td>\n",
       "      <td>321.890015</td>\n",
       "      <td>315.179993</td>\n",
       "      <td>321.799988</td>\n",
       "      <td>319.978241</td>\n",
       "      <td>2.057000e+07</td>\n",
       "      <td>27.841184</td>\n",
       "      <td>0.180394</td>\n",
       "    </tr>\n",
       "    <tr>\n",
       "      <th>2023-10-03</th>\n",
       "      <td>320.829987</td>\n",
       "      <td>321.390015</td>\n",
       "      <td>311.209991</td>\n",
       "      <td>313.390015</td>\n",
       "      <td>311.615845</td>\n",
       "      <td>2.103350e+07</td>\n",
       "      <td>27.483772</td>\n",
       "      <td>0.053570</td>\n",
       "    </tr>\n",
       "    <tr>\n",
       "      <th>2023-10-04</th>\n",
       "      <td>314.029999</td>\n",
       "      <td>320.040009</td>\n",
       "      <td>314.000000</td>\n",
       "      <td>318.959991</td>\n",
       "      <td>317.154327</td>\n",
       "      <td>2.072010e+07</td>\n",
       "      <td>27.721067</td>\n",
       "      <td>0.262994</td>\n",
       "    </tr>\n",
       "    <tr>\n",
       "      <th>2023-10-05</th>\n",
       "      <td>319.089996</td>\n",
       "      <td>319.980011</td>\n",
       "      <td>314.899994</td>\n",
       "      <td>319.359985</td>\n",
       "      <td>317.552063</td>\n",
       "      <td>1.696560e+07</td>\n",
       "      <td>27.738020</td>\n",
       "      <td>0.243548</td>\n",
       "    </tr>\n",
       "    <tr>\n",
       "      <th>...</th>\n",
       "      <td>...</td>\n",
       "      <td>...</td>\n",
       "      <td>...</td>\n",
       "      <td>...</td>\n",
       "      <td>...</td>\n",
       "      <td>...</td>\n",
       "      <td>...</td>\n",
       "      <td>...</td>\n",
       "    </tr>\n",
       "    <tr>\n",
       "      <th>2024-07-25</th>\n",
       "      <td>428.799988</td>\n",
       "      <td>429.799988</td>\n",
       "      <td>417.510010</td>\n",
       "      <td>418.399994</td>\n",
       "      <td>418.399994</td>\n",
       "      <td>2.994380e+07</td>\n",
       "      <td>31.625308</td>\n",
       "      <td>-0.791459</td>\n",
       "    </tr>\n",
       "    <tr>\n",
       "      <th>2024-07-26</th>\n",
       "      <td>418.200012</td>\n",
       "      <td>428.920013</td>\n",
       "      <td>417.269989</td>\n",
       "      <td>425.269989</td>\n",
       "      <td>425.269989</td>\n",
       "      <td>2.356650e+07</td>\n",
       "      <td>31.875194</td>\n",
       "      <td>-0.425522</td>\n",
       "    </tr>\n",
       "    <tr>\n",
       "      <th>2024-07-27</th>\n",
       "      <td>422.650004</td>\n",
       "      <td>429.996673</td>\n",
       "      <td>419.748057</td>\n",
       "      <td>426.313324</td>\n",
       "      <td>426.313324</td>\n",
       "      <td>1.841836e+07</td>\n",
       "      <td>31.912950</td>\n",
       "      <td>-0.457003</td>\n",
       "    </tr>\n",
       "    <tr>\n",
       "      <th>2024-07-28</th>\n",
       "      <td>427.099996</td>\n",
       "      <td>431.073334</td>\n",
       "      <td>422.226125</td>\n",
       "      <td>427.356659</td>\n",
       "      <td>427.356659</td>\n",
       "      <td>1.327022e+07</td>\n",
       "      <td>31.950655</td>\n",
       "      <td>-0.488366</td>\n",
       "    </tr>\n",
       "    <tr>\n",
       "      <th>2024-07-29</th>\n",
       "      <td>431.549988</td>\n",
       "      <td>432.149994</td>\n",
       "      <td>424.704193</td>\n",
       "      <td>428.399994</td>\n",
       "      <td>428.399994</td>\n",
       "      <td>8.122076e+06</td>\n",
       "      <td>31.988309</td>\n",
       "      <td>-0.519613</td>\n",
       "    </tr>\n",
       "  </tbody>\n",
       "</table>\n",
       "<p>303 rows × 8 columns</p>\n",
       "</div>"
      ],
      "text/plain": [
       "                  Open        High         Low       Close   Adj Close  \\\n",
       "2023-10-01  316.769999  321.083344  315.113332  319.783325  317.972992   \n",
       "2023-10-02  316.279999  321.890015  315.179993  321.799988  319.978241   \n",
       "2023-10-03  320.829987  321.390015  311.209991  313.390015  311.615845   \n",
       "2023-10-04  314.029999  320.040009  314.000000  318.959991  317.154327   \n",
       "2023-10-05  319.089996  319.980011  314.899994  319.359985  317.552063   \n",
       "...                ...         ...         ...         ...         ...   \n",
       "2024-07-25  428.799988  429.799988  417.510010  418.399994  418.399994   \n",
       "2024-07-26  418.200012  428.920013  417.269989  425.269989  425.269989   \n",
       "2024-07-27  422.650004  429.996673  419.748057  426.313324  426.313324   \n",
       "2024-07-28  427.099996  431.073334  422.226125  427.356659  427.356659   \n",
       "2024-07-29  431.549988  432.149994  424.704193  428.399994  428.399994   \n",
       "\n",
       "                  Volume  Close_boxcox  Close_diff  \n",
       "2023-10-01  2.176010e+07     27.755950    0.102670  \n",
       "2023-10-02  2.057000e+07     27.841184    0.180394  \n",
       "2023-10-03  2.103350e+07     27.483772    0.053570  \n",
       "2023-10-04  2.072010e+07     27.721067    0.262994  \n",
       "2023-10-05  1.696560e+07     27.738020    0.243548  \n",
       "...                  ...           ...         ...  \n",
       "2024-07-25  2.994380e+07     31.625308   -0.791459  \n",
       "2024-07-26  2.356650e+07     31.875194   -0.425522  \n",
       "2024-07-27  1.841836e+07     31.912950   -0.457003  \n",
       "2024-07-28  1.327022e+07     31.950655   -0.488366  \n",
       "2024-07-29  8.122076e+06     31.988309   -0.519613  \n",
       "\n",
       "[303 rows x 8 columns]"
      ]
     },
     "execution_count": 503,
     "metadata": {},
     "output_type": "execute_result"
    }
   ],
   "source": [
    "test_data"
   ]
  },
  {
   "cell_type": "markdown",
   "metadata": {},
   "source": [
    "## Auto-Arima Forecasting\n",
    "-----"
   ]
  },
  {
   "cell_type": "markdown",
   "metadata": {},
   "source": [
    "### Define parameters for auto_arima function"
   ]
  },
  {
   "cell_type": "code",
   "execution_count": 504,
   "metadata": {},
   "outputs": [],
   "source": [
    "y = train_data['Close_diff']"
   ]
  },
  {
   "cell_type": "code",
   "execution_count": 505,
   "metadata": {},
   "outputs": [
    {
     "name": "stdout",
     "output_type": "stream",
     "text": [
      "                               SARIMAX Results                                \n",
      "==============================================================================\n",
      "Dep. Variable:                      y   No. Observations:                 1518\n",
      "Model:               SARIMAX(2, 0, 3)   Log Likelihood                 125.268\n",
      "Date:                Thu, 12 Sep 2024   AIC                           -236.537\n",
      "Time:                        11:09:46   BIC                           -199.261\n",
      "Sample:                    08-05-2019   HQIC                          -222.658\n",
      "                         - 09-30-2023                                         \n",
      "Covariance Type:                  opg                                         \n",
      "==============================================================================\n",
      "                 coef    std err          z      P>|z|      [0.025      0.975]\n",
      "------------------------------------------------------------------------------\n",
      "intercept      0.0111      0.006      1.877      0.061      -0.000       0.023\n",
      "ar.L1          1.4072      0.022     65.286      0.000       1.365       1.449\n",
      "ar.L2         -0.6686      0.020    -32.961      0.000      -0.708      -0.629\n",
      "ma.L1         -0.7285      0.024    -29.967      0.000      -0.776      -0.681\n",
      "ma.L2          0.2851      0.025     11.396      0.000       0.236       0.334\n",
      "ma.L3          0.4792      0.021     22.364      0.000       0.437       0.521\n",
      "sigma2         0.0495      0.001     40.467      0.000       0.047       0.052\n",
      "===================================================================================\n",
      "Ljung-Box (L1) (Q):                  12.07   Jarque-Bera (JB):               586.93\n",
      "Prob(Q):                              0.00   Prob(JB):                         0.00\n",
      "Heteroskedasticity (H):               1.19   Skew:                            -0.05\n",
      "Prob(H) (two-sided):                  0.05   Kurtosis:                         6.04\n",
      "===================================================================================\n",
      "\n",
      "Warnings:\n",
      "[1] Covariance matrix calculated using the outer product of gradients (complex-step).\n"
     ]
    }
   ],
   "source": [
    "from pmdarima import auto_arima\n",
    "\n",
    "# Fit auto_arima model on the daily return (y)\n",
    "arima_model = auto_arima(y, seasonal=False, stepwise=True)\n",
    "\n",
    "# Display the model summary\n",
    "print(arima_model.summary())"
   ]
  },
  {
   "cell_type": "markdown",
   "metadata": {},
   "source": [
    "-----\n",
    "**Commment:** \n",
    "\n",
    "- Order of the ARIMA model: \n",
    "    - p = 2 Two autoregressive terms\n",
    "    - d = 0 No differencing (data is stationary)\n",
    "    - q = 3 Three moving average terms \n",
    "\n",
    "- **Auto-Regressive Terms:**\n",
    "\n",
    "    - **ar.L1: 1.4036**\n",
    "\n",
    "    Suggests a significant positive influence from returns exactly one day ago. This means that if the return a day ago was high, the model expects the current return to also be higher.\n",
    "\n",
    "    - **ar.L2: -0.6615**\n",
    "\n",
    "    The negative coefficient suggests the value two days ago was high and so can expect the current value to be lower.\n",
    "\n",
    "- **Moving Average Terms** : showing influence of the error from the previous period on the current value\n",
    "\n",
    "    - **ma.L1: -0.7290**\n",
    "\n",
    "    The negative coefficient suggests the forecast for the previous day was too high, and so the model adjusts the forecast downwards. This adjustment helps to correct the model's overestimations. \n",
    "\n",
    "    - **ma.L2: 0.2878**\n",
    "\n",
    "    A positive coefficient implies that if the error two days ago was high, the model adjusts the forecast upwards.\n",
    "\n",
    "    - **ma.L3: 0.4803**\n",
    "\n",
    "\n"
   ]
  },
  {
   "cell_type": "code",
   "execution_count": 506,
   "metadata": {},
   "outputs": [],
   "source": [
    "fcast_range = test_data.shape[0]"
   ]
  },
  {
   "cell_type": "code",
   "execution_count": 507,
   "metadata": {},
   "outputs": [],
   "source": [
    "# Using .predict to forecast return for the next 7 days\n",
    "pred_y = arima_model.predict(n_periods=fcast_range)"
   ]
  },
  {
   "cell_type": "code",
   "execution_count": 508,
   "metadata": {},
   "outputs": [],
   "source": [
    "pred_y = inv_boxcox(pred_y, lam)"
   ]
  },
  {
   "cell_type": "code",
   "execution_count": 514,
   "metadata": {},
   "outputs": [],
   "source": [
    "inversed_close = inv_diff(train_data['Close'].iloc[-1] , pred_y)"
   ]
  },
  {
   "cell_type": "code",
   "execution_count": 554,
   "metadata": {},
   "outputs": [
    {
     "data": {
      "text/plain": [
       "(302, 11)"
      ]
     },
     "execution_count": 554,
     "metadata": {},
     "output_type": "execute_result"
    }
   ],
   "source": [
    "test_data.shape\n"
   ]
  },
  {
   "cell_type": "code",
   "execution_count": 555,
   "metadata": {},
   "outputs": [
    {
     "data": {
      "text/plain": [
       "(303,)"
      ]
     },
     "execution_count": 555,
     "metadata": {},
     "output_type": "execute_result"
    }
   ],
   "source": [
    "inversed_close.shape"
   ]
  },
  {
   "cell_type": "code",
   "execution_count": 557,
   "metadata": {},
   "outputs": [
    {
     "data": {
      "text/html": [
       "<div>\n",
       "<style scoped>\n",
       "    .dataframe tbody tr th:only-of-type {\n",
       "        vertical-align: middle;\n",
       "    }\n",
       "\n",
       "    .dataframe tbody tr th {\n",
       "        vertical-align: top;\n",
       "    }\n",
       "\n",
       "    .dataframe thead th {\n",
       "        text-align: right;\n",
       "    }\n",
       "</style>\n",
       "<table border=\"1\" class=\"dataframe\">\n",
       "  <thead>\n",
       "    <tr style=\"text-align: right;\">\n",
       "      <th></th>\n",
       "      <th>Open</th>\n",
       "      <th>High</th>\n",
       "      <th>Low</th>\n",
       "      <th>Close</th>\n",
       "      <th>Adj Close</th>\n",
       "      <th>Volume</th>\n",
       "      <th>Close_boxcox</th>\n",
       "      <th>Close_diff</th>\n",
       "      <th>interest_rate</th>\n",
       "      <th>5D_M_Avg</th>\n",
       "      <th>int_r_diff</th>\n",
       "    </tr>\n",
       "  </thead>\n",
       "  <tbody>\n",
       "    <tr>\n",
       "      <th>2023-10-02</th>\n",
       "      <td>316.279999</td>\n",
       "      <td>321.890015</td>\n",
       "      <td>315.179993</td>\n",
       "      <td>321.799988</td>\n",
       "      <td>319.978241</td>\n",
       "      <td>2.057000e+07</td>\n",
       "      <td>27.841184</td>\n",
       "      <td>0.180394</td>\n",
       "      <td>5.315</td>\n",
       "      <td>0.000661</td>\n",
       "      <td>0.005</td>\n",
       "    </tr>\n",
       "    <tr>\n",
       "      <th>2023-10-03</th>\n",
       "      <td>320.829987</td>\n",
       "      <td>321.390015</td>\n",
       "      <td>311.209991</td>\n",
       "      <td>313.390015</td>\n",
       "      <td>311.615845</td>\n",
       "      <td>2.103350e+07</td>\n",
       "      <td>27.483772</td>\n",
       "      <td>0.053570</td>\n",
       "      <td>5.340</td>\n",
       "      <td>0.061526</td>\n",
       "      <td>0.025</td>\n",
       "    </tr>\n",
       "    <tr>\n",
       "      <th>2023-10-04</th>\n",
       "      <td>314.029999</td>\n",
       "      <td>320.040009</td>\n",
       "      <td>314.000000</td>\n",
       "      <td>318.959991</td>\n",
       "      <td>317.154327</td>\n",
       "      <td>2.072010e+07</td>\n",
       "      <td>27.721067</td>\n",
       "      <td>0.262994</td>\n",
       "      <td>5.335</td>\n",
       "      <td>0.124856</td>\n",
       "      <td>-0.005</td>\n",
       "    </tr>\n",
       "    <tr>\n",
       "      <th>2023-10-05</th>\n",
       "      <td>319.089996</td>\n",
       "      <td>319.980011</td>\n",
       "      <td>314.899994</td>\n",
       "      <td>319.359985</td>\n",
       "      <td>317.552063</td>\n",
       "      <td>1.696560e+07</td>\n",
       "      <td>27.738020</td>\n",
       "      <td>0.243548</td>\n",
       "      <td>5.325</td>\n",
       "      <td>0.168635</td>\n",
       "      <td>-0.010</td>\n",
       "    </tr>\n",
       "    <tr>\n",
       "      <th>2023-10-06</th>\n",
       "      <td>316.549988</td>\n",
       "      <td>329.190002</td>\n",
       "      <td>316.299988</td>\n",
       "      <td>327.260010</td>\n",
       "      <td>325.407349</td>\n",
       "      <td>2.564550e+07</td>\n",
       "      <td>28.070492</td>\n",
       "      <td>0.485898</td>\n",
       "      <td>5.348</td>\n",
       "      <td>0.245281</td>\n",
       "      <td>0.023</td>\n",
       "    </tr>\n",
       "    <tr>\n",
       "      <th>...</th>\n",
       "      <td>...</td>\n",
       "      <td>...</td>\n",
       "      <td>...</td>\n",
       "      <td>...</td>\n",
       "      <td>...</td>\n",
       "      <td>...</td>\n",
       "      <td>...</td>\n",
       "      <td>...</td>\n",
       "      <td>...</td>\n",
       "      <td>...</td>\n",
       "      <td>...</td>\n",
       "    </tr>\n",
       "    <tr>\n",
       "      <th>2024-07-25</th>\n",
       "      <td>428.799988</td>\n",
       "      <td>429.799988</td>\n",
       "      <td>417.510010</td>\n",
       "      <td>418.399994</td>\n",
       "      <td>418.399994</td>\n",
       "      <td>2.994380e+07</td>\n",
       "      <td>31.625308</td>\n",
       "      <td>-0.791459</td>\n",
       "      <td>5.160</td>\n",
       "      <td>-0.463491</td>\n",
       "      <td>-0.010</td>\n",
       "    </tr>\n",
       "    <tr>\n",
       "      <th>2024-07-26</th>\n",
       "      <td>418.200012</td>\n",
       "      <td>428.920013</td>\n",
       "      <td>417.269989</td>\n",
       "      <td>425.269989</td>\n",
       "      <td>425.269989</td>\n",
       "      <td>2.356650e+07</td>\n",
       "      <td>31.875194</td>\n",
       "      <td>-0.425522</td>\n",
       "      <td>5.155</td>\n",
       "      <td>-0.458246</td>\n",
       "      <td>-0.005</td>\n",
       "    </tr>\n",
       "    <tr>\n",
       "      <th>2024-07-27</th>\n",
       "      <td>422.650004</td>\n",
       "      <td>429.996673</td>\n",
       "      <td>419.748057</td>\n",
       "      <td>426.313324</td>\n",
       "      <td>426.313324</td>\n",
       "      <td>1.841836e+07</td>\n",
       "      <td>31.912950</td>\n",
       "      <td>-0.457003</td>\n",
       "      <td>5.155</td>\n",
       "      <td>-0.472123</td>\n",
       "      <td>0.000</td>\n",
       "    </tr>\n",
       "    <tr>\n",
       "      <th>2024-07-28</th>\n",
       "      <td>427.099996</td>\n",
       "      <td>431.073334</td>\n",
       "      <td>422.226125</td>\n",
       "      <td>427.356659</td>\n",
       "      <td>427.356659</td>\n",
       "      <td>1.327022e+07</td>\n",
       "      <td>31.950655</td>\n",
       "      <td>-0.488366</td>\n",
       "      <td>5.155</td>\n",
       "      <td>-0.536893</td>\n",
       "      <td>0.000</td>\n",
       "    </tr>\n",
       "    <tr>\n",
       "      <th>2024-07-29</th>\n",
       "      <td>431.549988</td>\n",
       "      <td>432.149994</td>\n",
       "      <td>424.704193</td>\n",
       "      <td>428.399994</td>\n",
       "      <td>428.399994</td>\n",
       "      <td>8.122076e+06</td>\n",
       "      <td>31.988309</td>\n",
       "      <td>-0.519613</td>\n",
       "      <td>5.155</td>\n",
       "      <td>-0.536392</td>\n",
       "      <td>0.000</td>\n",
       "    </tr>\n",
       "  </tbody>\n",
       "</table>\n",
       "<p>302 rows × 11 columns</p>\n",
       "</div>"
      ],
      "text/plain": [
       "                  Open        High         Low       Close   Adj Close  \\\n",
       "2023-10-02  316.279999  321.890015  315.179993  321.799988  319.978241   \n",
       "2023-10-03  320.829987  321.390015  311.209991  313.390015  311.615845   \n",
       "2023-10-04  314.029999  320.040009  314.000000  318.959991  317.154327   \n",
       "2023-10-05  319.089996  319.980011  314.899994  319.359985  317.552063   \n",
       "2023-10-06  316.549988  329.190002  316.299988  327.260010  325.407349   \n",
       "...                ...         ...         ...         ...         ...   \n",
       "2024-07-25  428.799988  429.799988  417.510010  418.399994  418.399994   \n",
       "2024-07-26  418.200012  428.920013  417.269989  425.269989  425.269989   \n",
       "2024-07-27  422.650004  429.996673  419.748057  426.313324  426.313324   \n",
       "2024-07-28  427.099996  431.073334  422.226125  427.356659  427.356659   \n",
       "2024-07-29  431.549988  432.149994  424.704193  428.399994  428.399994   \n",
       "\n",
       "                  Volume  Close_boxcox  Close_diff  interest_rate  5D_M_Avg  \\\n",
       "2023-10-02  2.057000e+07     27.841184    0.180394          5.315  0.000661   \n",
       "2023-10-03  2.103350e+07     27.483772    0.053570          5.340  0.061526   \n",
       "2023-10-04  2.072010e+07     27.721067    0.262994          5.335  0.124856   \n",
       "2023-10-05  1.696560e+07     27.738020    0.243548          5.325  0.168635   \n",
       "2023-10-06  2.564550e+07     28.070492    0.485898          5.348  0.245281   \n",
       "...                  ...           ...         ...            ...       ...   \n",
       "2024-07-25  2.994380e+07     31.625308   -0.791459          5.160 -0.463491   \n",
       "2024-07-26  2.356650e+07     31.875194   -0.425522          5.155 -0.458246   \n",
       "2024-07-27  1.841836e+07     31.912950   -0.457003          5.155 -0.472123   \n",
       "2024-07-28  1.327022e+07     31.950655   -0.488366          5.155 -0.536893   \n",
       "2024-07-29  8.122076e+06     31.988309   -0.519613          5.155 -0.536392   \n",
       "\n",
       "            int_r_diff  \n",
       "2023-10-02       0.005  \n",
       "2023-10-03       0.025  \n",
       "2023-10-04      -0.005  \n",
       "2023-10-05      -0.010  \n",
       "2023-10-06       0.023  \n",
       "...                ...  \n",
       "2024-07-25      -0.010  \n",
       "2024-07-26      -0.005  \n",
       "2024-07-27       0.000  \n",
       "2024-07-28       0.000  \n",
       "2024-07-29       0.000  \n",
       "\n",
       "[302 rows x 11 columns]"
      ]
     },
     "execution_count": 557,
     "metadata": {},
     "output_type": "execute_result"
    }
   ],
   "source": [
    "test_data\n"
   ]
  },
  {
   "cell_type": "code",
   "execution_count": 560,
   "metadata": {},
   "outputs": [
    {
     "data": {
      "text/plain": [
       "2023-10-02    320.107027\n",
       "2023-10-03    321.440308\n",
       "2023-10-04    322.749511\n",
       "2023-10-05    323.970502\n",
       "2023-10-06    325.087680\n",
       "                 ...    \n",
       "2024-07-25    630.507249\n",
       "2024-07-26    631.550403\n",
       "2024-07-27    632.593556\n",
       "2024-07-28    633.636710\n",
       "2024-07-29    634.679864\n",
       "Freq: D, Length: 302, dtype: float64"
      ]
     },
     "execution_count": 560,
     "metadata": {},
     "output_type": "execute_result"
    }
   ],
   "source": [
    "inversed_close.iloc[1:]"
   ]
  },
  {
   "cell_type": "code",
   "execution_count": 561,
   "metadata": {},
   "outputs": [
    {
     "data": {
      "image/png": "[encoded data removed]",
      "text/plain": [
       "<Figure size 1000x500 with 1 Axes>"
      ]
     },
     "metadata": {},
     "output_type": "display_data"
    }
   ],
   "source": [
    "plt_pred_vs_actual(test_data, inversed_close.iloc[1:])"
   ]
  },
  {
   "cell_type": "markdown",
   "metadata": {},
   "source": [
    "-----\n",
    "**Plot Description:**\n",
    "\n",
    "The model fails to respond to the sharp decline seen in the first couple of days in the validation dataset. This is clear as the forecasted line shows a steady upward trend throughout the seven days. \n",
    "\n",
    "This could be due to the AR coefficients - the strong positive influence from the previous day could have smoothed the volatility ?"
   ]
  },
  {
   "cell_type": "markdown",
   "metadata": {},
   "source": [
    "## Auto-Sarima Forecasting\n",
    "------"
   ]
  },
  {
   "cell_type": "code",
   "execution_count": 516,
   "metadata": {},
   "outputs": [],
   "source": [
    "y = train_data['Close_diff']"
   ]
  },
  {
   "cell_type": "code",
   "execution_count": 517,
   "metadata": {},
   "outputs": [
    {
     "name": "stdout",
     "output_type": "stream",
     "text": [
      "                                      SARIMAX Results                                      \n",
      "===========================================================================================\n",
      "Dep. Variable:                                   y   No. Observations:                 1518\n",
      "Model:             SARIMAX(2, 0, 2)x(0, 0, [1], 7)   Log Likelihood                 381.644\n",
      "Date:                             Thu, 12 Sep 2024   AIC                           -749.288\n",
      "Time:                                     11:12:17   BIC                           -712.012\n",
      "Sample:                                 08-05-2019   HQIC                          -735.410\n",
      "                                      - 09-30-2023                                         \n",
      "Covariance Type:                               opg                                         \n",
      "==============================================================================\n",
      "                 coef    std err          z      P>|z|      [0.025      0.975]\n",
      "------------------------------------------------------------------------------\n",
      "intercept      0.0006      0.000      3.570      0.000       0.000       0.001\n",
      "ar.L1          1.8479      0.032     58.430      0.000       1.786       1.910\n",
      "ar.L2         -0.8615      0.030    -28.563      0.000      -0.921      -0.802\n",
      "ma.L1         -0.9675      0.034    -28.305      0.000      -1.034      -0.900\n",
      "ma.L2          0.1923      0.019     10.189      0.000       0.155       0.229\n",
      "ma.S.L7       -0.8627      0.011    -78.844      0.000      -0.884      -0.841\n",
      "sigma2         0.0325      0.001     49.111      0.000       0.031       0.034\n",
      "===================================================================================\n",
      "Ljung-Box (L1) (Q):                  10.41   Jarque-Bera (JB):              1339.19\n",
      "Prob(Q):                              0.00   Prob(JB):                         0.00\n",
      "Heteroskedasticity (H):               1.21   Skew:                            -0.17\n",
      "Prob(H) (two-sided):                  0.03   Kurtosis:                         7.59\n",
      "===================================================================================\n",
      "\n",
      "Warnings:\n",
      "[1] Covariance matrix calculated using the outer product of gradients (complex-step).\n"
     ]
    }
   ],
   "source": [
    "# Setting seasonal to True and adding seasonal period 7 days\n",
    "sarima_model = auto_arima(y, seasonal=True, m=7, stepwise=True)\n",
    "print(sarima_model.summary())"
   ]
  },
  {
   "cell_type": "markdown",
   "metadata": {},
   "source": [
    "------\n",
    "**Comment:**\n",
    "\n",
    "#TODO\n"
   ]
  },
  {
   "cell_type": "code",
   "execution_count": 518,
   "metadata": {},
   "outputs": [],
   "source": [
    "fcast_range = test_data.shape[0]"
   ]
  },
  {
   "cell_type": "code",
   "execution_count": 519,
   "metadata": {},
   "outputs": [],
   "source": [
    "s_pred_y = sarima_model.predict(n_periods= fcast_range)"
   ]
  },
  {
   "cell_type": "code",
   "execution_count": 520,
   "metadata": {},
   "outputs": [
    {
     "data": {
      "text/plain": [
       "2023-10-01    0.071832\n",
       "2023-10-02    0.130814\n",
       "2023-10-03    0.390782\n",
       "2023-10-04    0.362638\n",
       "2023-10-05    0.359677\n",
       "                ...   \n",
       "2024-07-25    0.040973\n",
       "2024-07-26    0.040973\n",
       "2024-07-27    0.040973\n",
       "2024-07-28    0.040973\n",
       "2024-07-29    0.040973\n",
       "Freq: D, Length: 303, dtype: float64"
      ]
     },
     "execution_count": 520,
     "metadata": {},
     "output_type": "execute_result"
    }
   ],
   "source": [
    "s_pred_y \n"
   ]
  },
  {
   "cell_type": "markdown",
   "metadata": {},
   "source": [
    "    2024-07-23   -0.188649\n",
    "    2024-07-24    0.013511\n",
    "    2024-07-25    0.147730\n",
    "    2024-07-26    0.198420\n",
    "    2024-07-27    0.180788\n",
    "    2024-07-28    0.122509\n",
    "    2024-07-29    0.052371\n",
    "    Freq: D, dtype: float64"
   ]
  },
  {
   "cell_type": "code",
   "execution_count": 521,
   "metadata": {},
   "outputs": [],
   "source": [
    "s_pred_y = inv_boxcox(s_pred_y, lam)"
   ]
  },
  {
   "cell_type": "code",
   "execution_count": 522,
   "metadata": {},
   "outputs": [],
   "source": [
    "inversed_close_s = inv_diff(train_data['Close'].iloc[-1],s_pred_y)"
   ]
  },
  {
   "cell_type": "code",
   "execution_count": 523,
   "metadata": {},
   "outputs": [
    {
     "data": {
      "image/png": "[encoded data removed]",
      "text/plain": [
       "<Figure size 1000x500 with 1 Axes>"
      ]
     },
     "metadata": {},
     "output_type": "display_data"
    }
   ],
   "source": [
    "plt_pred_vs_actual(test_data, inversed_close_s)\n"
   ]
  },
  {
   "cell_type": "markdown",
   "metadata": {},
   "source": [
    "-----\n",
    "**Plot Description:**\n",
    "#TODO\n",
    "\n"
   ]
  },
  {
   "cell_type": "markdown",
   "metadata": {},
   "source": [
    "## Auto-Sarimax Forecasting\n",
    "----"
   ]
  },
  {
   "cell_type": "markdown",
   "metadata": {},
   "source": [
    "### Adding interest rates\n",
    "\n",
    "**NOTE:** \n",
    "\n",
    "Interest rates affect stock prices in several ways. \n",
    "\n",
    "When interest rates are low, it’s cheaper for companies to borrow money, which can lead to more investment and higher profits, often boosting stock prices.\n",
    "\n",
    "Higher interest rates make bonds and savings accounts more attractive, leading investors to move money away from stocks, which can lower stock prices.\n",
    "\n",
    "By including interest rates as an exogenous variable, the model can account for these effects use them to improve the accuracy of its predictions."
   ]
  },
  {
   "cell_type": "code",
   "execution_count": 524,
   "metadata": {},
   "outputs": [
    {
     "name": "stdout",
     "output_type": "stream",
     "text": [
      "[*********************100%%**********************]  1 of 1 completed\n"
     ]
    }
   ],
   "source": [
    "# Using yfinance to get interest rates\n",
    "import yfinance as yf\n",
    "\n",
    "treasury_data = yf.download('^IRX', start=raw_df.index.min(), end=raw_df.index.max())"
   ]
  },
  {
   "cell_type": "code",
   "execution_count": 525,
   "metadata": {},
   "outputs": [
    {
     "data": {
      "text/plain": [
       "Timestamp('2024-07-29 00:00:00')"
      ]
     },
     "execution_count": 525,
     "metadata": {},
     "output_type": "execute_result"
    }
   ],
   "source": [
    "raw_df.index.max()"
   ]
  },
  {
   "cell_type": "markdown",
   "metadata": {},
   "source": [
    "### Checking for missing dates"
   ]
  },
  {
   "cell_type": "code",
   "execution_count": 526,
   "metadata": {},
   "outputs": [],
   "source": [
    "first_day = raw_df.index.min()\n",
    "last_day = raw_df.index.max()"
   ]
  },
  {
   "cell_type": "code",
   "execution_count": 527,
   "metadata": {},
   "outputs": [
    {
     "data": {
      "text/plain": [
       "Timedelta('1820 days 00:00:00')"
      ]
     },
     "execution_count": 527,
     "metadata": {},
     "output_type": "execute_result"
    }
   ],
   "source": [
    "# Calculate difference between last and first day\n",
    "last_day -  first_day"
   ]
  },
  {
   "cell_type": "code",
   "execution_count": 528,
   "metadata": {},
   "outputs": [
    {
     "data": {
      "text/plain": [
       "(1253, 6)"
      ]
     },
     "execution_count": 528,
     "metadata": {},
     "output_type": "execute_result"
    }
   ],
   "source": [
    "# Clearly missing dates\n",
    "treasury_data.shape"
   ]
  },
  {
   "cell_type": "code",
   "execution_count": 529,
   "metadata": {},
   "outputs": [],
   "source": [
    "# Calculate full date range from start to end date\n",
    "full_index = pd.date_range(start=first_day, end=last_day, freq='D')"
   ]
  },
  {
   "cell_type": "code",
   "execution_count": 530,
   "metadata": {},
   "outputs": [],
   "source": [
    "# Re-index so there are no more missing dates\n",
    "treasury_data = treasury_data.reindex(full_index)"
   ]
  },
  {
   "cell_type": "code",
   "execution_count": 531,
   "metadata": {},
   "outputs": [
    {
     "data": {
      "text/plain": [
       "DatetimeIndex([], dtype='datetime64[ns]', freq='D')"
      ]
     },
     "execution_count": 531,
     "metadata": {},
     "output_type": "execute_result"
    }
   ],
   "source": [
    "full_index.difference(treasury_data.index)"
   ]
  },
  {
   "cell_type": "code",
   "execution_count": 532,
   "metadata": {},
   "outputs": [
    {
     "data": {
      "text/plain": [
       "Open         568\n",
       "High         568\n",
       "Low          568\n",
       "Close        568\n",
       "Adj Close    568\n",
       "Volume       568\n",
       "dtype: int64"
      ]
     },
     "execution_count": 532,
     "metadata": {},
     "output_type": "execute_result"
    }
   ],
   "source": [
    "treasury_data.isna().sum()"
   ]
  },
  {
   "cell_type": "code",
   "execution_count": 533,
   "metadata": {},
   "outputs": [],
   "source": [
    "# Fill in missing data for added dates using interpolation\n",
    "treasury_data= treasury_data.interpolate(method='linear')"
   ]
  },
  {
   "cell_type": "code",
   "execution_count": 535,
   "metadata": {},
   "outputs": [
    {
     "data": {
      "text/plain": [
       "Open         0\n",
       "High         0\n",
       "Low          0\n",
       "Close        0\n",
       "Adj Close    0\n",
       "Volume       0\n",
       "dtype: int64"
      ]
     },
     "execution_count": 535,
     "metadata": {},
     "output_type": "execute_result"
    }
   ],
   "source": [
    "treasury_data.isna().sum()"
   ]
  },
  {
   "cell_type": "code",
   "execution_count": 465,
   "metadata": {},
   "outputs": [],
   "source": [
    "treasury_data = treasury_data.rename(columns={\"Adj Close\": \"interest_rate\"}) # TODO: CHECK"
   ]
  },
  {
   "cell_type": "markdown",
   "metadata": {},
   "source": [
    "### Merging with raw_df"
   ]
  },
  {
   "cell_type": "code",
   "execution_count": 466,
   "metadata": {},
   "outputs": [],
   "source": [
    "# Create new df irt_df to hold raw_df data + interest rate data\n",
    "# Merging raw_df with interest rate on date index\n",
    "irt_df = pd.merge(raw_df, treasury_data['interest_rate'], left_index=True, right_index=True)"
   ]
  },
  {
   "cell_type": "code",
   "execution_count": 537,
   "metadata": {},
   "outputs": [
    {
     "data": {
      "text/plain": [
       "Open             0\n",
       "High             0\n",
       "Low              0\n",
       "Close            0\n",
       "Adj Close        0\n",
       "Volume           0\n",
       "Close_boxcox     0\n",
       "Close_diff       0\n",
       "interest_rate    0\n",
       "5D_M_Avg         0\n",
       "int_r_diff       0\n",
       "dtype: int64"
      ]
     },
     "execution_count": 537,
     "metadata": {},
     "output_type": "execute_result"
    }
   ],
   "source": [
    "# Checking for null values \n",
    "irt_df.isna().sum()"
   ]
  },
  {
   "cell_type": "code",
   "execution_count": 538,
   "metadata": {},
   "outputs": [
    {
     "data": {
      "text/plain": [
       "DatetimeIndex(['2019-08-09', '2019-08-10', '2019-08-11', '2019-08-12',\n",
       "               '2019-08-13', '2019-08-14', '2019-08-15', '2019-08-16',\n",
       "               '2019-08-17', '2019-08-18',\n",
       "               ...\n",
       "               '2024-07-20', '2024-07-21', '2024-07-22', '2024-07-23',\n",
       "               '2024-07-24', '2024-07-25', '2024-07-26', '2024-07-27',\n",
       "               '2024-07-28', '2024-07-29'],\n",
       "              dtype='datetime64[ns]', length=1817, freq=None)"
      ]
     },
     "execution_count": 538,
     "metadata": {},
     "output_type": "execute_result"
    }
   ],
   "source": [
    "irt_df.index"
   ]
  },
  {
   "cell_type": "markdown",
   "metadata": {},
   "source": [
    "### Adding 5 day moving average"
   ]
  },
  {
   "cell_type": "code",
   "execution_count": 469,
   "metadata": {},
   "outputs": [],
   "source": [
    "irt_df['5D_M_Avg'] = irt_df['Close_diff'].rolling(window=5).mean()"
   ]
  },
  {
   "cell_type": "code",
   "execution_count": 539,
   "metadata": {},
   "outputs": [
    {
     "data": {
      "text/html": [
       "<div>\n",
       "<style scoped>\n",
       "    .dataframe tbody tr th:only-of-type {\n",
       "        vertical-align: middle;\n",
       "    }\n",
       "\n",
       "    .dataframe tbody tr th {\n",
       "        vertical-align: top;\n",
       "    }\n",
       "\n",
       "    .dataframe thead th {\n",
       "        text-align: right;\n",
       "    }\n",
       "</style>\n",
       "<table border=\"1\" class=\"dataframe\">\n",
       "  <thead>\n",
       "    <tr style=\"text-align: right;\">\n",
       "      <th></th>\n",
       "      <th>Open</th>\n",
       "      <th>High</th>\n",
       "      <th>Low</th>\n",
       "      <th>Close</th>\n",
       "      <th>Adj Close</th>\n",
       "      <th>Volume</th>\n",
       "      <th>Close_boxcox</th>\n",
       "      <th>Close_diff</th>\n",
       "      <th>interest_rate</th>\n",
       "      <th>5D_M_Avg</th>\n",
       "      <th>int_r_diff</th>\n",
       "    </tr>\n",
       "  </thead>\n",
       "  <tbody>\n",
       "    <tr>\n",
       "      <th>2019-08-09</th>\n",
       "      <td>138.610001</td>\n",
       "      <td>139.380005</td>\n",
       "      <td>136.460007</td>\n",
       "      <td>137.710007</td>\n",
       "      <td>131.333435</td>\n",
       "      <td>2.346670e+07</td>\n",
       "      <td>18.269096</td>\n",
       "      <td>0.054515</td>\n",
       "      <td>1.950000</td>\n",
       "      <td>-0.186573</td>\n",
       "      <td>-0.020000</td>\n",
       "    </tr>\n",
       "    <tr>\n",
       "      <th>2019-08-10</th>\n",
       "      <td>138.096670</td>\n",
       "      <td>138.873337</td>\n",
       "      <td>136.053340</td>\n",
       "      <td>137.070002</td>\n",
       "      <td>130.723083</td>\n",
       "      <td>2.247257e+07</td>\n",
       "      <td>18.226037</td>\n",
       "      <td>0.117174</td>\n",
       "      <td>1.942667</td>\n",
       "      <td>-0.044075</td>\n",
       "      <td>-0.007333</td>\n",
       "    </tr>\n",
       "    <tr>\n",
       "      <th>2019-08-11</th>\n",
       "      <td>137.583338</td>\n",
       "      <td>138.366669</td>\n",
       "      <td>135.646672</td>\n",
       "      <td>136.429998</td>\n",
       "      <td>130.112732</td>\n",
       "      <td>2.147843e+07</td>\n",
       "      <td>18.182868</td>\n",
       "      <td>0.180393</td>\n",
       "      <td>1.935333</td>\n",
       "      <td>0.068129</td>\n",
       "      <td>-0.007333</td>\n",
       "    </tr>\n",
       "    <tr>\n",
       "      <th>2019-08-12</th>\n",
       "      <td>137.070007</td>\n",
       "      <td>137.860001</td>\n",
       "      <td>135.240005</td>\n",
       "      <td>135.789993</td>\n",
       "      <td>129.502380</td>\n",
       "      <td>2.048430e+07</td>\n",
       "      <td>18.139588</td>\n",
       "      <td>0.244186</td>\n",
       "      <td>1.928000</td>\n",
       "      <td>0.130374</td>\n",
       "      <td>-0.007333</td>\n",
       "    </tr>\n",
       "    <tr>\n",
       "      <th>2019-08-13</th>\n",
       "      <td>136.050003</td>\n",
       "      <td>138.800003</td>\n",
       "      <td>135.000000</td>\n",
       "      <td>138.600006</td>\n",
       "      <td>132.182236</td>\n",
       "      <td>2.515460e+07</td>\n",
       "      <td>18.328792</td>\n",
       "      <td>0.263854</td>\n",
       "      <td>1.955000</td>\n",
       "      <td>0.172024</td>\n",
       "      <td>0.027000</td>\n",
       "    </tr>\n",
       "    <tr>\n",
       "      <th>...</th>\n",
       "      <td>...</td>\n",
       "      <td>...</td>\n",
       "      <td>...</td>\n",
       "      <td>...</td>\n",
       "      <td>...</td>\n",
       "      <td>...</td>\n",
       "      <td>...</td>\n",
       "      <td>...</td>\n",
       "      <td>...</td>\n",
       "      <td>...</td>\n",
       "      <td>...</td>\n",
       "    </tr>\n",
       "    <tr>\n",
       "      <th>2024-07-25</th>\n",
       "      <td>428.799988</td>\n",
       "      <td>429.799988</td>\n",
       "      <td>417.510010</td>\n",
       "      <td>418.399994</td>\n",
       "      <td>418.399994</td>\n",
       "      <td>2.994380e+07</td>\n",
       "      <td>31.625308</td>\n",
       "      <td>-0.791459</td>\n",
       "      <td>5.160000</td>\n",
       "      <td>-0.463491</td>\n",
       "      <td>-0.010000</td>\n",
       "    </tr>\n",
       "    <tr>\n",
       "      <th>2024-07-26</th>\n",
       "      <td>418.200012</td>\n",
       "      <td>428.920013</td>\n",
       "      <td>417.269989</td>\n",
       "      <td>425.269989</td>\n",
       "      <td>425.269989</td>\n",
       "      <td>2.356650e+07</td>\n",
       "      <td>31.875194</td>\n",
       "      <td>-0.425522</td>\n",
       "      <td>5.155000</td>\n",
       "      <td>-0.458246</td>\n",
       "      <td>-0.005000</td>\n",
       "    </tr>\n",
       "    <tr>\n",
       "      <th>2024-07-27</th>\n",
       "      <td>422.650004</td>\n",
       "      <td>429.996673</td>\n",
       "      <td>419.748057</td>\n",
       "      <td>426.313324</td>\n",
       "      <td>426.313324</td>\n",
       "      <td>1.841836e+07</td>\n",
       "      <td>31.912950</td>\n",
       "      <td>-0.457003</td>\n",
       "      <td>5.155000</td>\n",
       "      <td>-0.472123</td>\n",
       "      <td>0.000000</td>\n",
       "    </tr>\n",
       "    <tr>\n",
       "      <th>2024-07-28</th>\n",
       "      <td>427.099996</td>\n",
       "      <td>431.073334</td>\n",
       "      <td>422.226125</td>\n",
       "      <td>427.356659</td>\n",
       "      <td>427.356659</td>\n",
       "      <td>1.327022e+07</td>\n",
       "      <td>31.950655</td>\n",
       "      <td>-0.488366</td>\n",
       "      <td>5.155000</td>\n",
       "      <td>-0.536893</td>\n",
       "      <td>0.000000</td>\n",
       "    </tr>\n",
       "    <tr>\n",
       "      <th>2024-07-29</th>\n",
       "      <td>431.549988</td>\n",
       "      <td>432.149994</td>\n",
       "      <td>424.704193</td>\n",
       "      <td>428.399994</td>\n",
       "      <td>428.399994</td>\n",
       "      <td>8.122076e+06</td>\n",
       "      <td>31.988309</td>\n",
       "      <td>-0.519613</td>\n",
       "      <td>5.155000</td>\n",
       "      <td>-0.536392</td>\n",
       "      <td>0.000000</td>\n",
       "    </tr>\n",
       "  </tbody>\n",
       "</table>\n",
       "<p>1817 rows × 11 columns</p>\n",
       "</div>"
      ],
      "text/plain": [
       "                  Open        High         Low       Close   Adj Close  \\\n",
       "2019-08-09  138.610001  139.380005  136.460007  137.710007  131.333435   \n",
       "2019-08-10  138.096670  138.873337  136.053340  137.070002  130.723083   \n",
       "2019-08-11  137.583338  138.366669  135.646672  136.429998  130.112732   \n",
       "2019-08-12  137.070007  137.860001  135.240005  135.789993  129.502380   \n",
       "2019-08-13  136.050003  138.800003  135.000000  138.600006  132.182236   \n",
       "...                ...         ...         ...         ...         ...   \n",
       "2024-07-25  428.799988  429.799988  417.510010  418.399994  418.399994   \n",
       "2024-07-26  418.200012  428.920013  417.269989  425.269989  425.269989   \n",
       "2024-07-27  422.650004  429.996673  419.748057  426.313324  426.313324   \n",
       "2024-07-28  427.099996  431.073334  422.226125  427.356659  427.356659   \n",
       "2024-07-29  431.549988  432.149994  424.704193  428.399994  428.399994   \n",
       "\n",
       "                  Volume  Close_boxcox  Close_diff  interest_rate  5D_M_Avg  \\\n",
       "2019-08-09  2.346670e+07     18.269096    0.054515       1.950000 -0.186573   \n",
       "2019-08-10  2.247257e+07     18.226037    0.117174       1.942667 -0.044075   \n",
       "2019-08-11  2.147843e+07     18.182868    0.180393       1.935333  0.068129   \n",
       "2019-08-12  2.048430e+07     18.139588    0.244186       1.928000  0.130374   \n",
       "2019-08-13  2.515460e+07     18.328792    0.263854       1.955000  0.172024   \n",
       "...                  ...           ...         ...            ...       ...   \n",
       "2024-07-25  2.994380e+07     31.625308   -0.791459       5.160000 -0.463491   \n",
       "2024-07-26  2.356650e+07     31.875194   -0.425522       5.155000 -0.458246   \n",
       "2024-07-27  1.841836e+07     31.912950   -0.457003       5.155000 -0.472123   \n",
       "2024-07-28  1.327022e+07     31.950655   -0.488366       5.155000 -0.536893   \n",
       "2024-07-29  8.122076e+06     31.988309   -0.519613       5.155000 -0.536392   \n",
       "\n",
       "            int_r_diff  \n",
       "2019-08-09   -0.020000  \n",
       "2019-08-10   -0.007333  \n",
       "2019-08-11   -0.007333  \n",
       "2019-08-12   -0.007333  \n",
       "2019-08-13    0.027000  \n",
       "...                ...  \n",
       "2024-07-25   -0.010000  \n",
       "2024-07-26   -0.005000  \n",
       "2024-07-27    0.000000  \n",
       "2024-07-28    0.000000  \n",
       "2024-07-29    0.000000  \n",
       "\n",
       "[1817 rows x 11 columns]"
      ]
     },
     "execution_count": 539,
     "metadata": {},
     "output_type": "execute_result"
    }
   ],
   "source": [
    "irt_df"
   ]
  },
  {
   "cell_type": "markdown",
   "metadata": {},
   "source": [
    "### Checking stationarity of X vars"
   ]
  },
  {
   "cell_type": "markdown",
   "metadata": {},
   "source": [
    "#### Interest Rate"
   ]
  },
  {
   "cell_type": "code",
   "execution_count": 471,
   "metadata": {},
   "outputs": [
    {
     "name": "stdout",
     "output_type": "stream",
     "text": [
      "ADF Statistic: 0.15089495581818316\n",
      "p-value: 0.969368987066434\n",
      "Data is not stationary.\n"
     ]
    }
   ],
   "source": [
    "# Check if interest data is stationary \n",
    "adf_test(irt_df['interest_rate'])"
   ]
  },
  {
   "cell_type": "code",
   "execution_count": 472,
   "metadata": {},
   "outputs": [],
   "source": [
    "# Apply boxcox to stabalise variance - negative values when using irx\n",
    "#irt_df['itr_stat'], _ = boxcox(irt_df['interest_rate'])"
   ]
  },
  {
   "cell_type": "code",
   "execution_count": 473,
   "metadata": {},
   "outputs": [],
   "source": [
    "#adf_test(irt_df['itr_stat'])"
   ]
  },
  {
   "cell_type": "code",
   "execution_count": 474,
   "metadata": {},
   "outputs": [],
   "source": [
    "# Applying differencing to stabalise the mean \n",
    "irt_df['int_r_diff']= irt_df['interest_rate'].diff().dropna()"
   ]
  },
  {
   "cell_type": "code",
   "execution_count": 475,
   "metadata": {},
   "outputs": [],
   "source": [
    "irt_df = irt_df.dropna()"
   ]
  },
  {
   "cell_type": "code",
   "execution_count": 476,
   "metadata": {},
   "outputs": [
    {
     "name": "stdout",
     "output_type": "stream",
     "text": [
      "ADF Statistic: -6.769031696647269\n",
      "p-value: 2.671025372424806e-09\n",
      "Data is stationary.\n"
     ]
    }
   ],
   "source": [
    "adf_test(irt_df['int_r_diff'])"
   ]
  },
  {
   "cell_type": "markdown",
   "metadata": {},
   "source": [
    "#### 5-Day Moving Average"
   ]
  },
  {
   "cell_type": "code",
   "execution_count": 477,
   "metadata": {},
   "outputs": [
    {
     "name": "stdout",
     "output_type": "stream",
     "text": [
      "ADF Statistic: -7.12129035417328\n",
      "p-value: 3.7167156436636384e-10\n",
      "Data is stationary.\n"
     ]
    }
   ],
   "source": [
    "adf_test(irt_df['5D_M_Avg'])"
   ]
  },
  {
   "cell_type": "markdown",
   "metadata": {},
   "source": [
    "#### Volume"
   ]
  },
  {
   "cell_type": "code",
   "execution_count": 478,
   "metadata": {},
   "outputs": [
    {
     "name": "stdout",
     "output_type": "stream",
     "text": [
      "ADF Statistic: -5.25319976944865\n",
      "p-value: 6.8399794038629755e-06\n",
      "Data is stationary.\n"
     ]
    }
   ],
   "source": [
    "adf_test(irt_df['Volume'])"
   ]
  },
  {
   "cell_type": "markdown",
   "metadata": {},
   "source": [
    "### Train/Test Split (new df)\n"
   ]
  },
  {
   "cell_type": "code",
   "execution_count": 479,
   "metadata": {},
   "outputs": [],
   "source": [
    "train_df = irt_df.iloc[:-7]\n",
    "val_df = irt_df.iloc[-7:]  "
   ]
  },
  {
   "cell_type": "code",
   "execution_count": 541,
   "metadata": {},
   "outputs": [],
   "source": [
    "for train_index, test_index in tscv.split(irt_df):\n",
    "    train_df, val_df = irt_df.iloc[train_index,:], irt_df.iloc[test_index,:]"
   ]
  },
  {
   "cell_type": "markdown",
   "metadata": {},
   "source": [
    "### Selecting X and y"
   ]
  },
  {
   "cell_type": "code",
   "execution_count": 542,
   "metadata": {},
   "outputs": [],
   "source": [
    "y = train_df['Close_diff']\n",
    "# Exogenous variables \n",
    "X = train_df[['int_r_diff', 'Volume','5D_M_Avg']]"
   ]
  },
  {
   "cell_type": "markdown",
   "metadata": {},
   "source": [
    "### Running SARIMAX Forecasting"
   ]
  },
  {
   "cell_type": "code",
   "execution_count": 543,
   "metadata": {},
   "outputs": [
    {
     "data": {
      "text/html": [
       "<div>\n",
       "<style scoped>\n",
       "    .dataframe tbody tr th:only-of-type {\n",
       "        vertical-align: middle;\n",
       "    }\n",
       "\n",
       "    .dataframe tbody tr th {\n",
       "        vertical-align: top;\n",
       "    }\n",
       "\n",
       "    .dataframe thead th {\n",
       "        text-align: right;\n",
       "    }\n",
       "</style>\n",
       "<table border=\"1\" class=\"dataframe\">\n",
       "  <thead>\n",
       "    <tr style=\"text-align: right;\">\n",
       "      <th></th>\n",
       "      <th>int_r_diff</th>\n",
       "      <th>Volume</th>\n",
       "      <th>5D_M_Avg</th>\n",
       "    </tr>\n",
       "  </thead>\n",
       "  <tbody>\n",
       "    <tr>\n",
       "      <th>2019-08-09</th>\n",
       "      <td>-0.020000</td>\n",
       "      <td>2.346670e+07</td>\n",
       "      <td>-0.186573</td>\n",
       "    </tr>\n",
       "    <tr>\n",
       "      <th>2019-08-10</th>\n",
       "      <td>-0.007333</td>\n",
       "      <td>2.247257e+07</td>\n",
       "      <td>-0.044075</td>\n",
       "    </tr>\n",
       "    <tr>\n",
       "      <th>2019-08-11</th>\n",
       "      <td>-0.007333</td>\n",
       "      <td>2.147843e+07</td>\n",
       "      <td>0.068129</td>\n",
       "    </tr>\n",
       "    <tr>\n",
       "      <th>2019-08-12</th>\n",
       "      <td>-0.007333</td>\n",
       "      <td>2.048430e+07</td>\n",
       "      <td>0.130374</td>\n",
       "    </tr>\n",
       "    <tr>\n",
       "      <th>2019-08-13</th>\n",
       "      <td>0.027000</td>\n",
       "      <td>2.515460e+07</td>\n",
       "      <td>0.172024</td>\n",
       "    </tr>\n",
       "    <tr>\n",
       "      <th>...</th>\n",
       "      <td>...</td>\n",
       "      <td>...</td>\n",
       "      <td>...</td>\n",
       "    </tr>\n",
       "    <tr>\n",
       "      <th>2023-09-27</th>\n",
       "      <td>0.005000</td>\n",
       "      <td>1.941010e+07</td>\n",
       "      <td>-0.512662</td>\n",
       "    </tr>\n",
       "    <tr>\n",
       "      <th>2023-09-28</th>\n",
       "      <td>-0.022000</td>\n",
       "      <td>1.968360e+07</td>\n",
       "      <td>-0.456398</td>\n",
       "    </tr>\n",
       "    <tr>\n",
       "      <th>2023-09-29</th>\n",
       "      <td>-0.008000</td>\n",
       "      <td>2.414030e+07</td>\n",
       "      <td>-0.365438</td>\n",
       "    </tr>\n",
       "    <tr>\n",
       "      <th>2023-09-30</th>\n",
       "      <td>0.005000</td>\n",
       "      <td>2.295020e+07</td>\n",
       "      <td>-0.263540</td>\n",
       "    </tr>\n",
       "    <tr>\n",
       "      <th>2023-10-01</th>\n",
       "      <td>0.005000</td>\n",
       "      <td>2.176010e+07</td>\n",
       "      <td>-0.103340</td>\n",
       "    </tr>\n",
       "  </tbody>\n",
       "</table>\n",
       "<p>1515 rows × 3 columns</p>\n",
       "</div>"
      ],
      "text/plain": [
       "            int_r_diff        Volume  5D_M_Avg\n",
       "2019-08-09   -0.020000  2.346670e+07 -0.186573\n",
       "2019-08-10   -0.007333  2.247257e+07 -0.044075\n",
       "2019-08-11   -0.007333  2.147843e+07  0.068129\n",
       "2019-08-12   -0.007333  2.048430e+07  0.130374\n",
       "2019-08-13    0.027000  2.515460e+07  0.172024\n",
       "...                ...           ...       ...\n",
       "2023-09-27    0.005000  1.941010e+07 -0.512662\n",
       "2023-09-28   -0.022000  1.968360e+07 -0.456398\n",
       "2023-09-29   -0.008000  2.414030e+07 -0.365438\n",
       "2023-09-30    0.005000  2.295020e+07 -0.263540\n",
       "2023-10-01    0.005000  2.176010e+07 -0.103340\n",
       "\n",
       "[1515 rows x 3 columns]"
      ]
     },
     "execution_count": 543,
     "metadata": {},
     "output_type": "execute_result"
    }
   ],
   "source": [
    "X"
   ]
  },
  {
   "cell_type": "code",
   "execution_count": 544,
   "metadata": {},
   "outputs": [
    {
     "name": "stdout",
     "output_type": "stream",
     "text": [
      "                                      SARIMAX Results                                      \n",
      "===========================================================================================\n",
      "Dep. Variable:                                   y   No. Observations:                 1515\n",
      "Model:             SARIMAX(2, 0, 2)x(0, 0, [1], 7)   Log Likelihood                 389.097\n",
      "Date:                             Thu, 12 Sep 2024   AIC                           -764.194\n",
      "Time:                                     11:16:19   BIC                           -726.931\n",
      "Sample:                                 08-09-2019   HQIC                          -750.319\n",
      "                                      - 10-01-2023                                         \n",
      "Covariance Type:                               opg                                         \n",
      "==============================================================================\n",
      "                 coef    std err          z      P>|z|      [0.025      0.975]\n",
      "------------------------------------------------------------------------------\n",
      "intercept      0.0006      0.000      3.916      0.000       0.000       0.001\n",
      "ar.L1          1.8488      0.037     49.749      0.000       1.776       1.922\n",
      "ar.L2         -0.8627      0.035    -24.483      0.000      -0.932      -0.794\n",
      "ma.L1         -0.8616      0.041    -20.869      0.000      -0.943      -0.781\n",
      "ma.L2          0.0978      0.021      4.607      0.000       0.056       0.139\n",
      "ma.S.L7       -0.8874      0.010    -85.545      0.000      -0.908      -0.867\n",
      "sigma2         0.0346      0.001     45.576      0.000       0.033       0.036\n",
      "===================================================================================\n",
      "Ljung-Box (L1) (Q):                   0.03   Jarque-Bera (JB):              1777.58\n",
      "Prob(Q):                              0.86   Prob(JB):                         0.00\n",
      "Heteroskedasticity (H):               1.16   Skew:                            -0.15\n",
      "Prob(H) (two-sided):                  0.10   Kurtosis:                         8.30\n",
      "===================================================================================\n",
      "\n",
      "Warnings:\n",
      "[1] Covariance matrix calculated using the outer product of gradients (complex-step).\n"
     ]
    }
   ],
   "source": [
    "# Fit auto_arima model on the stationary returns\n",
    "sarimax_model = auto_arima(y, exogenous = X,seasonal=True, m=7, stepwise=True)\n",
    "\n",
    "# Display the model summary\n",
    "print(sarimax_model.summary())"
   ]
  },
  {
   "cell_type": "markdown",
   "metadata": {},
   "source": [
    "------\n",
    "**Plot Description:**\n",
    "\n",
    "#TODO"
   ]
  },
  {
   "cell_type": "code",
   "execution_count": 545,
   "metadata": {},
   "outputs": [],
   "source": [
    "# Forecast future returns on the test set period\n",
    "forecast_periods = val_df.shape[0]"
   ]
  },
  {
   "cell_type": "code",
   "execution_count": 546,
   "metadata": {},
   "outputs": [],
   "source": [
    "future_exog = val_df[['int_r_diff', 'Volume', '5D_M_Avg']]"
   ]
  },
  {
   "cell_type": "code",
   "execution_count": 547,
   "metadata": {},
   "outputs": [],
   "source": [
    "x_pred_y = sarimax_model.predict( exog=future_exog, n_periods=forecast_periods)"
   ]
  },
  {
   "cell_type": "code",
   "execution_count": 548,
   "metadata": {},
   "outputs": [],
   "source": [
    "x_pred_y = inv_boxcox(x_pred_y, lam)"
   ]
  },
  {
   "cell_type": "code",
   "execution_count": 549,
   "metadata": {},
   "outputs": [],
   "source": [
    "inversed_close_s_x = inv_diff(train_df['Close'].iloc[-1] , x_pred_y)"
   ]
  },
  {
   "cell_type": "code",
   "execution_count": 550,
   "metadata": {},
   "outputs": [
    {
     "data": {
      "image/png": "[encoded data removed]",
      "text/plain": [
       "<Figure size 1000x500 with 1 Axes>"
      ]
     },
     "metadata": {},
     "output_type": "display_data"
    }
   ],
   "source": [
    "plt_pred_vs_actual(val_df, inversed_close_s_x)"
   ]
  },
  {
   "cell_type": "markdown",
   "metadata": {},
   "source": [
    "----\n",
    "**Plot Description:**\n",
    "\n",
    "#TODO"
   ]
  },
  {
   "cell_type": "markdown",
   "metadata": {},
   "source": [
    "## Evaluation\n",
    "----"
   ]
  },
  {
   "cell_type": "code",
   "execution_count": null,
   "metadata": {},
   "outputs": [],
   "source": []
  },
  {
   "cell_type": "code",
   "execution_count": 562,
   "metadata": {},
   "outputs": [
    {
     "data": {
      "text/plain": [
       "{'MSE': 9612.296131395356,\n",
       " 'MAE': 78.03311754124685,\n",
       " 'RMSE': 98.04231806416736,\n",
       " 'MAPE': 18.558052232845252}"
      ]
     },
     "execution_count": 562,
     "metadata": {},
     "output_type": "execute_result"
    }
   ],
   "source": [
    "fcast_evaluation(inversed_close.iloc[1:], test_data['Close'])"
   ]
  },
  {
   "cell_type": "code",
   "execution_count": 564,
   "metadata": {},
   "outputs": [
    {
     "data": {
      "text/plain": [
       "{'MSE': 10176.968166629336,\n",
       " 'MAE': 81.19770258481364,\n",
       " 'RMSE': 100.88096037721556,\n",
       " 'MAPE': 19.344091406457828}"
      ]
     },
     "execution_count": 564,
     "metadata": {},
     "output_type": "execute_result"
    }
   ],
   "source": [
    "fcast_evaluation(inversed_close_s.iloc[1:], test_data['Close'])"
   ]
  },
  {
   "cell_type": "code",
   "execution_count": 567,
   "metadata": {},
   "outputs": [
    {
     "data": {
      "text/plain": [
       "{'MSE': 10616.386623074053,\n",
       " 'MAE': 83.4069594698788,\n",
       " 'RMSE': 103.03585115421745,\n",
       " 'MAPE': 19.88684977948543}"
      ]
     },
     "execution_count": 567,
     "metadata": {},
     "output_type": "execute_result"
    }
   ],
   "source": [
    "fcast_evaluation(inversed_close_s_x, val_df['Close'])"
   ]
  },
  {
   "cell_type": "code",
   "execution_count": null,
   "metadata": {},
   "outputs": [],
   "source": []
  },
  {
   "cell_type": "markdown",
   "metadata": {},
   "source": [
    "----\n",
    "#TODO:\n",
    "\n",
    "- comments and plot descriptions \n",
    "- conclusion"
   ]
  },
  {
   "cell_type": "markdown",
   "metadata": {},
   "source": []
  }
 ],
 "metadata": {
  "kernelspec": {
   "display_name": "timeseries",
   "language": "python",
   "name": "python3"
  },
  "language_info": {
   "codemirror_mode": {
    "name": "ipython",
    "version": 3
   },
   "file_extension": ".py",
   "mimetype": "text/x-python",
   "name": "python",
   "nbconvert_exporter": "python",
   "pygments_lexer": "ipython3",
   "version": "3.11.4"
  }
 },
 "nbformat": 4,
 "nbformat_minor": 2
}
